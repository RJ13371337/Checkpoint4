{
 "cells": [
  {
   "cell_type": "code",
   "execution_count": 14,
   "id": "2d47aeac",
   "metadata": {},
   "outputs": [
    {
     "name": "stdout",
     "output_type": "stream",
     "text": [
      "Enter First number4\n",
      "Enter Second number98\n",
      "Enter Third number4\n",
      "Max Number is 98\n"
     ]
    }
   ],
   "source": [
    "def maxnumber(a, b, c): \n",
    "   list = [a, b, c] \n",
    "   return max(list) \n",
    "x = int(input(\"Enter First number\"))\n",
    "y = int(input(\"Enter Second number\"))\n",
    "z = int(input(\"Enter Third number\"))\n",
    "print(\"Max Number is\",maximum(x, y, z)) "
   ]
  },
  {
   "cell_type": "code",
   "execution_count": 16,
   "id": "2a81358f",
   "metadata": {},
   "outputs": [],
   "source": [
    "def calculation(a, b):\n",
    "    return a + b, a - b"
   ]
  },
  {
   "cell_type": "code",
   "execution_count": 17,
   "id": "3de6c513",
   "metadata": {},
   "outputs": [
    {
     "data": {
      "text/plain": [
       "(50, 30)"
      ]
     },
     "execution_count": 17,
     "metadata": {},
     "output_type": "execute_result"
    }
   ],
   "source": [
    "calculation(40,10)"
   ]
  },
  {
   "cell_type": "code",
   "execution_count": 34,
   "id": "0ba62230",
   "metadata": {
    "scrolled": false
   },
   "outputs": [
    {
     "name": "stdout",
     "output_type": "stream",
     "text": [
      "sum of the numbers in the list is:  126\n"
     ]
    }
   ],
   "source": [
    "total = 0\n",
    "ele = 0\n",
    "list1 = [11, 5, 9, 51, 50]\n",
    "while(ele < len(list1)):\n",
    "    total = total + list1[ele]\n",
    "    ele += 1\n",
    "print(\"sum of the numbers in the list is: \", total)"
   ]
  },
  {
   "cell_type": "code",
   "execution_count": 21,
   "id": "cd5b78cc",
   "metadata": {},
   "outputs": [],
   "source": [
    "def multiply_numbers(numbers):\n",
    "    product = 1\n",
    "    for number in numbers:\n",
    "        product *= number\n",
    "    return product"
   ]
  },
  {
   "cell_type": "code",
   "execution_count": 25,
   "id": "9b682e95",
   "metadata": {},
   "outputs": [
    {
     "name": "stdout",
     "output_type": "stream",
     "text": [
      "105\n"
     ]
    }
   ],
   "source": [
    "numbers = [1, 3, 5, 7]\n",
    "result = multiply_numbers(numbers)\n",
    "print(result)"
   ]
  },
  {
   "cell_type": "code",
   "execution_count": 16,
   "id": "abbfb395",
   "metadata": {},
   "outputs": [],
   "source": [
    "def uppercase_first_letter(dictionary):\n",
    "    \n",
    "    new_dict = {}\n",
    "    for key in dictionary.items():\n",
    "        new_dict[key] = value[0].upper() + value[1:]\n",
    "    return new_dict"
   ]
  },
  {
   "cell_type": "code",
   "execution_count": 15,
   "id": "1bc4a059",
   "metadata": {},
   "outputs": [
    {
     "ename": "AttributeError",
     "evalue": "'set' object has no attribute 'items'",
     "output_type": "error",
     "traceback": [
      "\u001b[1;31m---------------------------------------------------------------------------\u001b[0m",
      "\u001b[1;31mAttributeError\u001b[0m                            Traceback (most recent call last)",
      "\u001b[1;32m~\\AppData\\Local\\Temp\\ipykernel_960\\2902280269.py\u001b[0m in \u001b[0;36m<module>\u001b[1;34m\u001b[0m\n\u001b[0;32m      1\u001b[0m \u001b[0mdictionary\u001b[0m \u001b[1;33m=\u001b[0m \u001b[1;33m{\u001b[0m\u001b[1;34m'riadh'\u001b[0m\u001b[1;33m,\u001b[0m\u001b[1;34m'gomycode'\u001b[0m\u001b[1;33m,\u001b[0m \u001b[1;34m'test'\u001b[0m\u001b[1;33m,\u001b[0m\u001b[1;34m'manouba'\u001b[0m\u001b[1;33m}\u001b[0m\u001b[1;33m\u001b[0m\u001b[1;33m\u001b[0m\u001b[0m\n\u001b[1;32m----> 2\u001b[1;33m \u001b[0muppercase_dictionary\u001b[0m \u001b[1;33m=\u001b[0m \u001b[0muppercase_first_letter\u001b[0m\u001b[1;33m(\u001b[0m\u001b[0mdictionary\u001b[0m\u001b[1;33m)\u001b[0m\u001b[1;33m\u001b[0m\u001b[1;33m\u001b[0m\u001b[0m\n\u001b[0m\u001b[0;32m      3\u001b[0m \u001b[0mprint\u001b[0m\u001b[1;33m(\u001b[0m\u001b[0muppercase_dictionary\u001b[0m\u001b[1;33m)\u001b[0m\u001b[1;33m\u001b[0m\u001b[1;33m\u001b[0m\u001b[0m\n",
      "\u001b[1;32m~\\AppData\\Local\\Temp\\ipykernel_960\\1317351207.py\u001b[0m in \u001b[0;36muppercase_first_letter\u001b[1;34m(dictionary)\u001b[0m\n\u001b[0;32m      2\u001b[0m \u001b[1;33m\u001b[0m\u001b[0m\n\u001b[0;32m      3\u001b[0m     \u001b[0mnew_dict\u001b[0m \u001b[1;33m=\u001b[0m \u001b[1;33m{\u001b[0m\u001b[1;33m}\u001b[0m\u001b[1;33m\u001b[0m\u001b[1;33m\u001b[0m\u001b[0m\n\u001b[1;32m----> 4\u001b[1;33m     \u001b[1;32mfor\u001b[0m \u001b[0mkey\u001b[0m\u001b[1;33m,\u001b[0m \u001b[0mvalue\u001b[0m \u001b[1;32min\u001b[0m \u001b[0mdictionary\u001b[0m\u001b[1;33m.\u001b[0m\u001b[0mitems\u001b[0m\u001b[1;33m(\u001b[0m\u001b[1;33m)\u001b[0m\u001b[1;33m:\u001b[0m\u001b[1;33m\u001b[0m\u001b[1;33m\u001b[0m\u001b[0m\n\u001b[0m\u001b[0;32m      5\u001b[0m         \u001b[0mnew_dict\u001b[0m\u001b[1;33m[\u001b[0m\u001b[0mkey\u001b[0m\u001b[1;33m]\u001b[0m \u001b[1;33m=\u001b[0m \u001b[0mvalue\u001b[0m\u001b[1;33m[\u001b[0m\u001b[1;36m0\u001b[0m\u001b[1;33m]\u001b[0m\u001b[1;33m.\u001b[0m\u001b[0mupper\u001b[0m\u001b[1;33m(\u001b[0m\u001b[1;33m)\u001b[0m \u001b[1;33m+\u001b[0m \u001b[0mvalue\u001b[0m\u001b[1;33m[\u001b[0m\u001b[1;36m1\u001b[0m\u001b[1;33m:\u001b[0m\u001b[1;33m]\u001b[0m\u001b[1;33m\u001b[0m\u001b[1;33m\u001b[0m\u001b[0m\n\u001b[0;32m      6\u001b[0m     \u001b[1;32mreturn\u001b[0m \u001b[0mnew_dict\u001b[0m\u001b[1;33m\u001b[0m\u001b[1;33m\u001b[0m\u001b[0m\n",
      "\u001b[1;31mAttributeError\u001b[0m: 'set' object has no attribute 'items'"
     ]
    }
   ],
   "source": [
    "dictionary = {'riadh','gomycode', 'test','manouba'}\n",
    "uppercase_dictionary = uppercase_first_letter(dictionary)\n",
    "print(uppercase_dictionary) "
   ]
  },
  {
   "cell_type": "code",
   "execution_count": 17,
   "id": "d421b48a",
   "metadata": {},
   "outputs": [],
   "source": [
    "def longest_value(dictionary):\n",
    "   \n",
    "    longest_key = None\n",
    "    \n",
    "    longest_length = 0\n",
    "    \n",
    "    for key, value in dictionary.items():\n",
    "       \n",
    "        if len(value) > longest_length:\n",
    "            longest_key = key\n",
    "            longest_length = len(value)\n",
    "    \n",
    "    return longest_key"
   ]
  },
  {
   "cell_type": "code",
   "execution_count": 19,
   "id": "f930ac5f",
   "metadata": {},
   "outputs": [
    {
     "ename": "AttributeError",
     "evalue": "'set' object has no attribute 'items'",
     "output_type": "error",
     "traceback": [
      "\u001b[1;31m---------------------------------------------------------------------------\u001b[0m",
      "\u001b[1;31mAttributeError\u001b[0m                            Traceback (most recent call last)",
      "\u001b[1;32m~\\AppData\\Local\\Temp\\ipykernel_960\\2222008438.py\u001b[0m in \u001b[0;36m<module>\u001b[1;34m\u001b[0m\n\u001b[0;32m      1\u001b[0m \u001b[0mdictionary\u001b[0m \u001b[1;33m=\u001b[0m \u001b[1;33m{\u001b[0m\u001b[1;34m'riadh'\u001b[0m\u001b[1;33m,\u001b[0m\u001b[1;34m'gomycode'\u001b[0m\u001b[1;33m,\u001b[0m \u001b[1;34m'test'\u001b[0m\u001b[1;33m,\u001b[0m\u001b[1;34m'manouba'\u001b[0m\u001b[1;33m}\u001b[0m\u001b[1;33m\u001b[0m\u001b[1;33m\u001b[0m\u001b[0m\n\u001b[1;32m----> 2\u001b[1;33m \u001b[0mlongest_key\u001b[0m \u001b[1;33m=\u001b[0m \u001b[0mlongest_value\u001b[0m\u001b[1;33m(\u001b[0m\u001b[0mdictionary\u001b[0m\u001b[1;33m)\u001b[0m\u001b[1;33m\u001b[0m\u001b[1;33m\u001b[0m\u001b[0m\n\u001b[0m\u001b[0;32m      3\u001b[0m \u001b[0mprint\u001b[0m\u001b[1;33m(\u001b[0m\u001b[0mlongest_key\u001b[0m\u001b[1;33m)\u001b[0m\u001b[1;33m\u001b[0m\u001b[1;33m\u001b[0m\u001b[0m\n",
      "\u001b[1;32m~\\AppData\\Local\\Temp\\ipykernel_960\\1458345194.py\u001b[0m in \u001b[0;36mlongest_value\u001b[1;34m(dictionary)\u001b[0m\n\u001b[0;32m      5\u001b[0m     \u001b[0mlongest_length\u001b[0m \u001b[1;33m=\u001b[0m \u001b[1;36m0\u001b[0m\u001b[1;33m\u001b[0m\u001b[1;33m\u001b[0m\u001b[0m\n\u001b[0;32m      6\u001b[0m \u001b[1;33m\u001b[0m\u001b[0m\n\u001b[1;32m----> 7\u001b[1;33m     \u001b[1;32mfor\u001b[0m \u001b[0mkey\u001b[0m\u001b[1;33m,\u001b[0m \u001b[0mvalue\u001b[0m \u001b[1;32min\u001b[0m \u001b[0mdictionary\u001b[0m\u001b[1;33m.\u001b[0m\u001b[0mitems\u001b[0m\u001b[1;33m(\u001b[0m\u001b[1;33m)\u001b[0m\u001b[1;33m:\u001b[0m\u001b[1;33m\u001b[0m\u001b[1;33m\u001b[0m\u001b[0m\n\u001b[0m\u001b[0;32m      8\u001b[0m \u001b[1;33m\u001b[0m\u001b[0m\n\u001b[0;32m      9\u001b[0m         \u001b[1;32mif\u001b[0m \u001b[0mlen\u001b[0m\u001b[1;33m(\u001b[0m\u001b[0mvalue\u001b[0m\u001b[1;33m)\u001b[0m \u001b[1;33m>\u001b[0m \u001b[0mlongest_length\u001b[0m\u001b[1;33m:\u001b[0m\u001b[1;33m\u001b[0m\u001b[1;33m\u001b[0m\u001b[0m\n",
      "\u001b[1;31mAttributeError\u001b[0m: 'set' object has no attribute 'items'"
     ]
    }
   ],
   "source": [
    "dictionary = {'riadh','gomycode', 'test','manouba'}\n",
    "longest_key = longest_value(dictionary)\n",
    "print(longest_key) "
   ]
  },
  {
   "cell_type": "code",
   "execution_count": 37,
   "id": "3737b5cd",
   "metadata": {},
   "outputs": [
    {
     "name": "stdout",
     "output_type": "stream",
     "text": [
      "35\n"
     ]
    }
   ],
   "source": [
    "list1 = [1,5,7]\n",
    "x = 1\n",
    "for i in list1:\n",
    "    x = x*i\n",
    "print(x)   "
   ]
  },
  {
   "cell_type": "code",
   "execution_count": 49,
   "id": "619b86b8",
   "metadata": {},
   "outputs": [
    {
     "name": "stdout",
     "output_type": "stream",
     "text": [
      "[1, 5, 7, 1, 5, 7]\n",
      "[1, 5, 7, 1, 5, 7]\n",
      "[1, 5, 7, 1, 5, 7]\n"
     ]
    }
   ],
   "source": [
    "for i in list1:\n",
    "        if i%2 == 0: [list1*2]\n",
    "        print(list1*2)"
   ]
  },
  {
   "cell_type": "code",
   "execution_count": 1,
   "id": "25f66f1a",
   "metadata": {},
   "outputs": [
    {
     "name": "stdout",
     "output_type": "stream",
     "text": [
      "Enter a hyphen-separated sequence of words: green-red-yellow-black-white\n",
      "black-green-red-white-yellow\n"
     ]
    }
   ],
   "source": [
    "input_string = input(\"Enter a hyphen-separated sequence of words: \")\n",
    "words = input_string.split('-')\n",
    "words.sort()\n",
    "output_string = '-'.join(words)\n",
    "print(output_string)"
   ]
  },
  {
   "cell_type": "code",
   "execution_count": null,
   "id": "34dc3b4d",
   "metadata": {},
   "outputs": [],
   "source": []
  }
 ],
 "metadata": {
  "kernelspec": {
   "display_name": "Python 3 (ipykernel)",
   "language": "python",
   "name": "python3"
  },
  "language_info": {
   "codemirror_mode": {
    "name": "ipython",
    "version": 3
   },
   "file_extension": ".py",
   "mimetype": "text/x-python",
   "name": "python",
   "nbconvert_exporter": "python",
   "pygments_lexer": "ipython3",
   "version": "3.9.13"
  }
 },
 "nbformat": 4,
 "nbformat_minor": 5
}
